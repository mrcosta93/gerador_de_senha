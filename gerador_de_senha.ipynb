{
 "cells": [
  {
   "cell_type": "code",
   "execution_count": 23,
   "metadata": {},
   "outputs": [
    {
     "name": "stdout",
     "output_type": "stream",
     "text": [
      "xXb#g?P$9!\n"
     ]
    }
   ],
   "source": [
    "import random\n",
    "\n",
    "minusculas = 'abcdefghijklmnopqrstuvwxyz'\n",
    "maiusculas = minusculas.upper()\n",
    "numeros = '0123456789'\n",
    "simbolos = '!@#$%&*()_{}[]<>\\/?'\n",
    "\n",
    "caracteres = minusculas + maiusculas + numeros + simbolos\n",
    "\n",
    "tamanho = int(input('Qual o tamanho da senha desejada? '))\n",
    "\n",
    "senha = []\n",
    "senha.append(random.choice(minusculas))\n",
    "\n",
    "while len(senha) < tamanho:\n",
    "    senha.append(random.choice(caracteres))\n",
    "\n",
    "senha_final = ''.join([str(item) for item in senha])\n",
    "print(senha_final)"
   ]
  }
 ],
 "metadata": {
  "interpreter": {
   "hash": "31f2aee4e71d21fbe5cf8b01ff0e069b9275f58929596ceb00d14d90e3e16cd6"
  },
  "kernelspec": {
   "display_name": "Python 3.8.10 64-bit",
   "language": "python",
   "name": "python3"
  },
  "language_info": {
   "codemirror_mode": {
    "name": "ipython",
    "version": 3
   },
   "file_extension": ".py",
   "mimetype": "text/x-python",
   "name": "python",
   "nbconvert_exporter": "python",
   "pygments_lexer": "ipython3",
   "version": "3.8.10"
  },
  "orig_nbformat": 4
 },
 "nbformat": 4,
 "nbformat_minor": 2
}
